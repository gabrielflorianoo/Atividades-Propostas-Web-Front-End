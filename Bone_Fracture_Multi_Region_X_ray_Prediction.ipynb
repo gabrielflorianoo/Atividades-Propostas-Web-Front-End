{
  "cells": [
    {
      "cell_type": "markdown",
      "metadata": {
        "id": "view-in-github",
        "colab_type": "text"
      },
      "source": [
        "<a href=\"https://colab.research.google.com/github/gabrielflorianoo/Atividades-Propostas-Web-Front-End/blob/main/Bone_Fracture_Multi_Region_X_ray_Prediction.ipynb\" target=\"_parent\"><img src=\"https://colab.research.google.com/assets/colab-badge.svg\" alt=\"Open In Colab\"/></a>"
      ]
    },
    {
      "cell_type": "code",
      "execution_count": null,
      "metadata": {
        "id": "wUOK_iAQIzaZ"
      },
      "outputs": [],
      "source": [
        "# ! kaggle datasets download 'bmadushanirodrigo/fracture-multi-region-x-ray-data'\n",
        "# ! unzip 'fracture-multi-region-x-ray-data.zip'"
      ]
    },
    {
      "cell_type": "code",
      "execution_count": null,
      "metadata": {
        "id": "HKEqc2-iOa3R"
      },
      "outputs": [],
      "source": [
        "import numpy as np\n",
        "import tensorflow as tf\n",
        "import matplotlib.pyplot as plt\n",
        "\n",
        "from tensorflow.keras.preprocessing import image_dataset_from_directory"
      ]
    },
    {
      "cell_type": "code",
      "execution_count": null,
      "metadata": {
        "id": "aACyWJTEYCL5",
        "colab": {
          "base_uri": "https://localhost:8080/"
        },
        "outputId": "1196e1fe-1202-4aca-c223-56febecbc7ad"
      },
      "outputs": [
        {
          "output_type": "stream",
          "name": "stdout",
          "text": [
            "[]\n"
          ]
        }
      ],
      "source": [
        "from struct import unpack\n",
        "from tqdm import tqdm\n",
        "import os\n",
        "\n",
        "\n",
        "marker_mapping = {\n",
        "    0xffd8: \"Start of Image\",\n",
        "    0xffe0: \"Application Default Header\",\n",
        "    0xffdb: \"Quantization Table\",\n",
        "    0xffc0: \"Start of Frame\",\n",
        "    0xffc4: \"Define Huffman Table\",\n",
        "    0xffda: \"Start of Scan\",\n",
        "    0xffd9: \"End of Image\"\n",
        "}\n",
        "\n",
        "\n",
        "class JPEG:\n",
        "    def __init__(self, image_file):\n",
        "        with open(image_file, 'rb') as f:\n",
        "            self.img_data = f.read()\n",
        "\n",
        "    def decode(self):\n",
        "        data = self.img_data\n",
        "        while(True):\n",
        "            marker, = unpack(\">H\", data[0:2])\n",
        "            # print(marker_mapping.get(marker))\n",
        "            if marker == 0xffd8:\n",
        "                data = data[2:]\n",
        "            elif marker == 0xffd9:\n",
        "                return\n",
        "            elif marker == 0xffda:\n",
        "                data = data[-2:]\n",
        "            else:\n",
        "                lenchunk, = unpack(\">H\", data[2:4])\n",
        "                data = data[2+lenchunk:]\n",
        "            if len(data)==0:\n",
        "                break\n",
        "\n",
        "\n",
        "bads = []\n",
        "\n",
        "root_img = '/content/Bone_Fracture_Binary_Classification/Bone_Fracture_Binary_Classification/train/fractured'\n",
        "for img in os.listdir(root_img):\n",
        "    image = os.path.join(root_img, img)\n",
        "    image = JPEG(image)\n",
        "    try:\n",
        "        image.decode()\n",
        "    except:\n",
        "        bads.append(img)\n",
        "\n",
        "print(bads)\n",
        "\n",
        "for name in bads:\n",
        "    os.remove(os.path.join(root_img,name))"
      ]
    },
    {
      "cell_type": "code",
      "execution_count": null,
      "metadata": {
        "id": "ewIihZxnOh_H",
        "colab": {
          "base_uri": "https://localhost:8080/"
        },
        "outputId": "03f7c54c-6915-44e0-f82e-5b3bbe04d2a0"
      },
      "outputs": [
        {
          "output_type": "stream",
          "name": "stdout",
          "text": [
            "Found 9236 files belonging to 2 classes.\n",
            "Using 7389 files for training.\n",
            "Found 819 files belonging to 2 classes.\n",
            "Using 163 files for validation.\n"
          ]
        }
      ],
      "source": [
        "# Load training dataset excluding corrupted images\n",
        "train = image_dataset_from_directory(\n",
        "    '/content/Bone_Fracture_Binary_Classification/Bone_Fracture_Binary_Classification/train',\n",
        "    image_size=(256, 256),\n",
        "    validation_split=0.2,  # Adjust this split according to your dataset\n",
        "    subset='training',\n",
        "    seed=222\n",
        ")\n",
        "\n",
        "# Load validation dataset excluding corrupted images\n",
        "val = image_dataset_from_directory(\n",
        "    '/content/Bone_Fracture_Binary_Classification/Bone_Fracture_Binary_Classification/val',\n",
        "    image_size=(256, 256),\n",
        "    validation_split=0.2,  # Adjust this split according to your dataset\n",
        "    subset='validation',\n",
        "    seed=222\n",
        ")\n"
      ]
    },
    {
      "cell_type": "code",
      "execution_count": null,
      "metadata": {
        "id": "bh20ozrnQzfg"
      },
      "outputs": [],
      "source": [
        "class_names = train.class_names\n",
        "num_classes = len(class_names)"
      ]
    },
    {
      "cell_type": "code",
      "execution_count": null,
      "metadata": {
        "id": "teFM6ExdO5cA"
      },
      "outputs": [],
      "source": [
        "train_iter = iter(train)\n",
        "imgs, labels = next(train_iter)"
      ]
    },
    {
      "cell_type": "code",
      "execution_count": null,
      "metadata": {
        "id": "fKFi-qxXPE7S"
      },
      "outputs": [],
      "source": [
        "# fig, ax = plt.subplots(3, 3, figsize=(14, 8))\n",
        "\n",
        "# ax = ax.flatten()\n",
        "# idx = 0\n",
        "# for img, ax in zip(imgs, ax):\n",
        "#     ax.imshow(img / 255)\n",
        "#     ax.set_title(class_names[np.argmax((labels[idx]))])\n",
        "#     idx += 1\n",
        "\n",
        "# plt.subplots_adjust(wspace=0.5, hspace=0.5)\n",
        "# plt.show()"
      ]
    },
    {
      "cell_type": "code",
      "execution_count": null,
      "metadata": {
        "id": "G8RxHZWvSNAs"
      },
      "outputs": [],
      "source": [
        "# Caching\n",
        "AUTOTUNE = tf.data.AUTOTUNE\n",
        "\n",
        "train = train.cache().shuffle(1000).prefetch(AUTOTUNE)\n",
        "val = val.cache().prefetch(AUTOTUNE)"
      ]
    },
    {
      "cell_type": "code",
      "execution_count": null,
      "metadata": {
        "id": "nWRNU6fCRWMF"
      },
      "outputs": [],
      "source": [
        "from tensorflow.keras.models import Sequential\n",
        "from tensorflow.keras import layers"
      ]
    },
    {
      "cell_type": "code",
      "execution_count": null,
      "metadata": {
        "id": "YbqpgMUuRdCI"
      },
      "outputs": [],
      "source": [
        "model = Sequential([\n",
        "    layers.Rescaling(input_shape=(256, 256, 3), scale=1./255),\n",
        "    layers.Conv2D(16, 3, activation='relu'),\n",
        "    layers.MaxPooling2D(),\n",
        "    layers.Conv2D(32, 3, activation='relu'),\n",
        "    layers.MaxPooling2D(),\n",
        "    layers.Conv2D(64, 3, activation='relu'),\n",
        "    layers.MaxPooling2D(),\n",
        "    layers.Dropout(0.2),\n",
        "    layers.Flatten(),\n",
        "    layers.Dense(1, activation='sigmoid')\n",
        "])"
      ]
    },
    {
      "cell_type": "code",
      "execution_count": null,
      "metadata": {
        "id": "AynyD00aSBEg"
      },
      "outputs": [],
      "source": [
        "model.compile(\n",
        "    optimizer='adam',\n",
        "    loss=tf.keras.losses.BinaryCrossentropy(),\n",
        "    metrics=['accuracy']\n",
        ")"
      ]
    },
    {
      "cell_type": "code",
      "execution_count": null,
      "metadata": {
        "id": "DPTs60DjSIyZ",
        "colab": {
          "base_uri": "https://localhost:8080/"
        },
        "outputId": "bd79df38-5bcb-4fcd-dd1a-5b1601facf51"
      },
      "outputs": [
        {
          "output_type": "stream",
          "name": "stdout",
          "text": [
            "Epoch 1/10\n",
            "231/231 [==============================] - 89s 56ms/step - loss: 0.4163 - accuracy: 0.8036 - val_loss: 0.3150 - val_accuracy: 0.8834\n",
            "Epoch 2/10\n",
            "231/231 [==============================] - 12s 54ms/step - loss: 0.1571 - accuracy: 0.9479 - val_loss: 0.2402 - val_accuracy: 0.9141\n",
            "Epoch 3/10\n",
            "231/231 [==============================] - 12s 54ms/step - loss: 0.0768 - accuracy: 0.9765 - val_loss: 0.1729 - val_accuracy: 0.9571\n",
            "Epoch 4/10\n",
            "231/231 [==============================] - 12s 54ms/step - loss: 0.0420 - accuracy: 0.9884 - val_loss: 0.1749 - val_accuracy: 0.9632\n",
            "Epoch 5/10\n",
            "231/231 [==============================] - 12s 54ms/step - loss: 0.0257 - accuracy: 0.9931 - val_loss: 0.1467 - val_accuracy: 0.9755\n",
            "Epoch 6/10\n",
            "231/231 [==============================] - 12s 54ms/step - loss: 0.0192 - accuracy: 0.9931 - val_loss: 0.1360 - val_accuracy: 0.9571\n",
            "Epoch 7/10\n",
            "231/231 [==============================] - 12s 54ms/step - loss: 0.0209 - accuracy: 0.9926 - val_loss: 0.0968 - val_accuracy: 0.9816\n",
            "Epoch 8/10\n",
            "231/231 [==============================] - 12s 54ms/step - loss: 0.0140 - accuracy: 0.9955 - val_loss: 0.0664 - val_accuracy: 0.9816\n",
            "Epoch 9/10\n",
            "231/231 [==============================] - 12s 53ms/step - loss: 0.0252 - accuracy: 0.9912 - val_loss: 0.0773 - val_accuracy: 0.9571\n",
            "Epoch 10/10\n",
            "231/231 [==============================] - 12s 53ms/step - loss: 0.0066 - accuracy: 0.9978 - val_loss: 0.0802 - val_accuracy: 0.9877\n"
          ]
        },
        {
          "output_type": "execute_result",
          "data": {
            "text/plain": [
              "<keras.src.callbacks.History at 0x7f6f4ed071c0>"
            ]
          },
          "metadata": {},
          "execution_count": 64
        }
      ],
      "source": [
        "model.fit(train, validation_data=val, epochs=10, verbose=1)"
      ]
    },
    {
      "cell_type": "code",
      "source": [
        "pred = model.predict(imgs)\n",
        "\n",
        "print(class_names)\n",
        "\n",
        "idx = 0\n",
        "for x in pred:\n",
        "    rd = round(x[0])\n",
        "    print(class_names[rd], 'real labels: ', labels[idx])\n",
        "    idx += 1"
      ],
      "metadata": {
        "colab": {
          "base_uri": "https://localhost:8080/"
        },
        "id": "nWZEiaXQxCJ_",
        "outputId": "f7cfc618-6dd9-49df-f767-1a15d00fbe5a"
      },
      "execution_count": null,
      "outputs": [
        {
          "output_type": "stream",
          "name": "stdout",
          "text": [
            "1/1 [==============================] - 0s 36ms/step\n",
            "['fractured', 'not fractured']\n",
            "fractured real labels:  tf.Tensor(0, shape=(), dtype=int32)\n",
            "fractured real labels:  tf.Tensor(0, shape=(), dtype=int32)\n",
            "not fractured real labels:  tf.Tensor(1, shape=(), dtype=int32)\n",
            "fractured real labels:  tf.Tensor(0, shape=(), dtype=int32)\n",
            "not fractured real labels:  tf.Tensor(1, shape=(), dtype=int32)\n",
            "not fractured real labels:  tf.Tensor(1, shape=(), dtype=int32)\n",
            "fractured real labels:  tf.Tensor(0, shape=(), dtype=int32)\n",
            "not fractured real labels:  tf.Tensor(1, shape=(), dtype=int32)\n",
            "fractured real labels:  tf.Tensor(0, shape=(), dtype=int32)\n",
            "fractured real labels:  tf.Tensor(0, shape=(), dtype=int32)\n",
            "not fractured real labels:  tf.Tensor(1, shape=(), dtype=int32)\n",
            "fractured real labels:  tf.Tensor(0, shape=(), dtype=int32)\n",
            "fractured real labels:  tf.Tensor(0, shape=(), dtype=int32)\n",
            "not fractured real labels:  tf.Tensor(1, shape=(), dtype=int32)\n",
            "not fractured real labels:  tf.Tensor(1, shape=(), dtype=int32)\n",
            "fractured real labels:  tf.Tensor(0, shape=(), dtype=int32)\n",
            "fractured real labels:  tf.Tensor(0, shape=(), dtype=int32)\n",
            "not fractured real labels:  tf.Tensor(1, shape=(), dtype=int32)\n",
            "not fractured real labels:  tf.Tensor(1, shape=(), dtype=int32)\n",
            "fractured real labels:  tf.Tensor(0, shape=(), dtype=int32)\n",
            "not fractured real labels:  tf.Tensor(1, shape=(), dtype=int32)\n",
            "fractured real labels:  tf.Tensor(0, shape=(), dtype=int32)\n",
            "fractured real labels:  tf.Tensor(0, shape=(), dtype=int32)\n",
            "not fractured real labels:  tf.Tensor(1, shape=(), dtype=int32)\n",
            "not fractured real labels:  tf.Tensor(1, shape=(), dtype=int32)\n",
            "not fractured real labels:  tf.Tensor(1, shape=(), dtype=int32)\n",
            "fractured real labels:  tf.Tensor(0, shape=(), dtype=int32)\n",
            "fractured real labels:  tf.Tensor(0, shape=(), dtype=int32)\n",
            "not fractured real labels:  tf.Tensor(1, shape=(), dtype=int32)\n",
            "not fractured real labels:  tf.Tensor(1, shape=(), dtype=int32)\n",
            "fractured real labels:  tf.Tensor(0, shape=(), dtype=int32)\n",
            "not fractured real labels:  tf.Tensor(1, shape=(), dtype=int32)\n"
          ]
        }
      ]
    }
  ],
  "metadata": {
    "accelerator": "GPU",
    "colab": {
      "gpuType": "T4",
      "provenance": [],
      "authorship_tag": "ABX9TyMqWY5aYawGmdcWcyVKIK8f",
      "include_colab_link": true
    },
    "kernelspec": {
      "display_name": "Python 3",
      "name": "python3"
    },
    "language_info": {
      "name": "python"
    }
  },
  "nbformat": 4,
  "nbformat_minor": 0
}